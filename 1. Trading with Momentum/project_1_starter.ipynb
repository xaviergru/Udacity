[InternetShortcut]
URL=https://vieweb6b209b.udacity-student-workspaces.com/notebooks/project_1_starter.ipynb
